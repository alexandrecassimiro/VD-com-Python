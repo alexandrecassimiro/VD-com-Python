{
  "nbformat": 4,
  "nbformat_minor": 0,
  "metadata": {
    "colab": {
      "provenance": []
    },
    "kernelspec": {
      "name": "python3",
      "display_name": "Python 3"
    },
    "language_info": {
      "name": "python"
    }
  },
  "cells": [
    {
      "cell_type": "code",
      "execution_count": 24,
      "metadata": {
        "id": "qJ-72MBtHmER"
      },
      "outputs": [],
      "source": [
        "import plotly.graph_objs as go  # com go, precisa codificar mais do que o express\n",
        "import numpy as np"
      ]
    },
    {
      "cell_type": "code",
      "source": [
        " # criar um vetor, sequencia de números inteiros de 0 a 9\n",
        " x = np.arange(10)"
      ],
      "metadata": {
        "id": "OhkmCgRvIGno"
      },
      "execution_count": 31,
      "outputs": []
    },
    {
      "cell_type": "code",
      "source": [
        "x"
      ],
      "metadata": {
        "colab": {
          "base_uri": "https://localhost:8080/"
        },
        "id": "WKxS8iv1IeWv",
        "outputId": "97ba705f-d433-45ad-aca7-a542a5b7f9b4"
      },
      "execution_count": 32,
      "outputs": [
        {
          "output_type": "execute_result",
          "data": {
            "text/plain": [
              "array([0, 1, 2, 3, 4, 5, 6, 7, 8, 9])"
            ]
          },
          "metadata": {},
          "execution_count": 32
        }
      ]
    },
    {
      "cell_type": "code",
      "source": [
        "fig = go.Figure(data = go.Scatter(x = x**3)) \n",
        "fig.show()"
      ],
      "metadata": {
        "colab": {
          "base_uri": "https://localhost:8080/",
          "height": 183
        },
        "id": "6oZKZKy-IgPM",
        "outputId": "54a07409-cda7-49d4-f05d-fe0fc187dd3b"
      },
      "execution_count": 27,
      "outputs": [
        {
          "output_type": "error",
          "ename": "TypeError",
          "evalue": "ignored",
          "traceback": [
            "\u001b[0;31m---------------------------------------------------------------------------\u001b[0m",
            "\u001b[0;31mTypeError\u001b[0m                                 Traceback (most recent call last)",
            "\u001b[0;32m<ipython-input-27-5181b3480304>\u001b[0m in \u001b[0;36m<cell line: 1>\u001b[0;34m()\u001b[0m\n\u001b[0;32m----> 1\u001b[0;31m \u001b[0mfig\u001b[0m \u001b[0;34m=\u001b[0m \u001b[0mgo\u001b[0m\u001b[0;34m.\u001b[0m\u001b[0mFigure\u001b[0m\u001b[0;34m(\u001b[0m\u001b[0mdata\u001b[0m \u001b[0;34m=\u001b[0m \u001b[0mgo\u001b[0m\u001b[0;34m.\u001b[0m\u001b[0mScatter\u001b[0m\u001b[0;34m(\u001b[0m\u001b[0mx\u001b[0m \u001b[0;34m=\u001b[0m \u001b[0mx\u001b[0m\u001b[0;34m**\u001b[0m\u001b[0;36m3\u001b[0m\u001b[0;34m)\u001b[0m\u001b[0;34m)\u001b[0m\u001b[0;34m\u001b[0m\u001b[0;34m\u001b[0m\u001b[0m\n\u001b[0m\u001b[1;32m      2\u001b[0m \u001b[0mfig\u001b[0m\u001b[0;34m.\u001b[0m\u001b[0mshow\u001b[0m\u001b[0;34m(\u001b[0m\u001b[0;34m)\u001b[0m\u001b[0;34m\u001b[0m\u001b[0;34m\u001b[0m\u001b[0m\n",
            "\u001b[0;31mTypeError\u001b[0m: 'Scatter' object is not callable"
          ]
        }
      ]
    },
    {
      "cell_type": "code",
      "source": [
        "# import plotly.graph_objects as go\n",
        "\n",
        "# # Criar os dados para o gráfico\n",
        "# x = [1, 2, 3, 4, 5]\n",
        "# y = [x_val**3 for x_val in x]\n",
        "\n",
        "# # Criar a figura com o gráfico de dispersão\n",
        "# fig = go.Figure(data=go.Scatter(x=x, y=y, mode='markers'))\n",
        "\n",
        "# # Exibir a figura\n",
        "# fig.show()"
      ],
      "metadata": {
        "id": "tFZIUt4ZLVhq"
      },
      "execution_count": null,
      "outputs": []
    },
    {
      "cell_type": "code",
      "source": [
        "data = go.Scatter(x = x**3)\n",
        "data\n",
        "# fig = go.Figure(data)\n",
        "# fig.Show()"
      ],
      "metadata": {
        "colab": {
          "base_uri": "https://localhost:8080/"
        },
        "id": "0x7DeVAxNDBv",
        "outputId": "70848eaa-ed4e-44aa-8cba-271d9b758752"
      },
      "execution_count": 39,
      "outputs": [
        {
          "output_type": "execute_result",
          "data": {
            "text/plain": [
              "Scatter({\n",
              "    'x': array([  0,   1,   8,  27,  64, 125, 216, 343, 512, 729])\n",
              "})"
            ]
          },
          "metadata": {},
          "execution_count": 39
        }
      ]
    }
  ]
}